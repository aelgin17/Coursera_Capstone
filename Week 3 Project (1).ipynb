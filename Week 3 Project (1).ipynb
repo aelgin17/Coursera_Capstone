{
 "cells": [
  {
   "cell_type": "markdown",
   "metadata": {
    "collapsed": true
   },
   "source": [
    "# part 1\n"
   ]
  },
  {
   "cell_type": "code",
   "execution_count": 6,
   "metadata": {},
   "outputs": [
    {
     "name": "stdout",
     "output_type": "stream",
     "text": [
      "Libraries imported.\n"
     ]
    }
   ],
   "source": [
    "import numpy as np # library to handle data in a vectorized manner\n",
    "import pandas as pd # library for data analsysis\n",
    "import requests # Library for web scraping\n",
    "\n",
    "print('Libraries imported.')"
   ]
  },
  {
   "cell_type": "code",
   "execution_count": 7,
   "metadata": {},
   "outputs": [
    {
     "name": "stdout",
     "output_type": "stream",
     "text": [
      "BeautifulSoup  & csv imported.\n"
     ]
    }
   ],
   "source": [
    "# To run this, you can install BeautifulSoup\n",
    "# https://pypi.python.org/pypi/beautifulsoup4\n",
    "\n",
    "# Or download the file\n",
    "# http://beautiful-soup-4\n",
    "# and unzip it in the same directory as this file\n",
    "import requests\n",
    "from urllib.request import urlopen\n",
    "from bs4 import BeautifulSoup\n",
    "import ssl\n",
    "import csv\n",
    "\n",
    "print('BeautifulSoup  & csv imported.')"
   ]
  },
  {
   "cell_type": "code",
   "execution_count": 8,
   "metadata": {},
   "outputs": [
    {
     "name": "stdout",
     "output_type": "stream",
     "text": [
      "SSL certificate errors ignored.\n"
     ]
    }
   ],
   "source": [
    "# Ignore SSL certificate errors\n",
    "ctx = ssl.create_default_context()\n",
    "ctx.check_hostname = False\n",
    "ctx.verify_mode = ssl.CERT_NONE\n",
    "\n",
    "print('SSL certificate errors ignored.')"
   ]
  },
  {
   "cell_type": "code",
   "execution_count": 9,
   "metadata": {},
   "outputs": [
    {
     "name": "stdout",
     "output_type": "stream",
     "text": [
      "soup ready\n"
     ]
    }
   ],
   "source": [
    "source = requests.get('https://en.wikipedia.org/wiki/List_of_postal_codes_of_Canada:_M').text\n",
    "\n",
    "soup = BeautifulSoup(source, 'lxml')\n",
    "\n",
    "#print(soup.prettify())\n",
    "print('soup ready')"
   ]
  },
  {
   "cell_type": "code",
   "execution_count": 10,
   "metadata": {},
   "outputs": [],
   "source": [
    "table = soup.find('table',{'class':'wikitable sortable'})\n",
    "#table"
   ]
  },
  {
   "cell_type": "code",
   "execution_count": 11,
   "metadata": {},
   "outputs": [],
   "source": [
    "table_rows = table.find_all('tr')\n",
    "\n",
    "#table_rows"
   ]
  },
  {
   "cell_type": "code",
   "execution_count": 12,
   "metadata": {},
   "outputs": [],
   "source": [
    "data = []\n",
    "for row in table_rows:\n",
    "    data.append([t.text.strip() for t in row.find_all('td')])\n",
    "\n",
    "df = pd.DataFrame(data, columns=['PostalCode', 'Borough', 'Neighbourhood'])\n",
    "df = df[~df['PostalCode'].isnull()]  # to filter out bad rows\n",
    "\n",
    "#print(df.head(5))\n",
    "#print('***')\n",
    "#print(df.tail(5))"
   ]
  },
  {
   "cell_type": "code",
   "execution_count": 13,
   "metadata": {},
   "outputs": [
    {
     "name": "stdout",
     "output_type": "stream",
     "text": [
      "<class 'pandas.core.frame.DataFrame'>\n",
      "Int64Index: 180 entries, 1 to 180\n",
      "Data columns (total 3 columns):\n",
      "PostalCode       180 non-null object\n",
      "Borough          180 non-null object\n",
      "Neighbourhood    180 non-null object\n",
      "dtypes: object(3)\n",
      "memory usage: 5.6+ KB\n"
     ]
    }
   ],
   "source": [
    "df.info()"
   ]
  },
  {
   "cell_type": "code",
   "execution_count": 14,
   "metadata": {},
   "outputs": [
    {
     "data": {
      "text/plain": [
       "(180, 3)"
      ]
     },
     "execution_count": 14,
     "metadata": {},
     "output_type": "execute_result"
    }
   ],
   "source": [
    "df.shape"
   ]
  },
  {
   "cell_type": "code",
   "execution_count": 15,
   "metadata": {},
   "outputs": [],
   "source": [
    "import pandas\n",
    "import requests\n",
    "from bs4 import BeautifulSoup\n",
    "website_text = requests.get('https://en.wikipedia.org/wiki/List_of_postal_codes_of_Canada:_M').text\n",
    "soup = BeautifulSoup(website_text,'lxml')\n",
    "\n",
    "table = soup.find('table',{'class':'wikitable sortable'})\n",
    "table_rows = table.find_all('tr')\n",
    "\n",
    "data = []\n",
    "for row in table_rows:\n",
    "    data.append([t.text.strip() for t in row.find_all('td')])\n",
    "\n",
    "df = pandas.DataFrame(data, columns=['PostalCode', 'Borough', 'Neighbourhood'])\n",
    "df = df[~df['PostalCode'].isnull()]  # to filter out bad rows\n",
    "\n",
    "#df.head(15)"
   ]
  },
  {
   "cell_type": "code",
   "execution_count": 16,
   "metadata": {},
   "outputs": [],
   "source": [
    "df.drop(df[df['Borough']==\"Not assigned\"].index,axis=0, inplace=True)\n",
    "#df.head()"
   ]
  },
  {
   "cell_type": "code",
   "execution_count": 17,
   "metadata": {},
   "outputs": [],
   "source": [
    "df1 = df.reset_index()\n",
    "#df1.head()"
   ]
  },
  {
   "cell_type": "code",
   "execution_count": 18,
   "metadata": {},
   "outputs": [
    {
     "name": "stdout",
     "output_type": "stream",
     "text": [
      "<class 'pandas.core.frame.DataFrame'>\n",
      "RangeIndex: 103 entries, 0 to 102\n",
      "Data columns (total 4 columns):\n",
      "index            103 non-null int64\n",
      "PostalCode       103 non-null object\n",
      "Borough          103 non-null object\n",
      "Neighbourhood    103 non-null object\n",
      "dtypes: int64(1), object(3)\n",
      "memory usage: 3.3+ KB\n"
     ]
    }
   ],
   "source": [
    "df1.info()"
   ]
  },
  {
   "cell_type": "code",
   "execution_count": 19,
   "metadata": {},
   "outputs": [
    {
     "data": {
      "text/plain": [
       "(103, 4)"
      ]
     },
     "execution_count": 19,
     "metadata": {},
     "output_type": "execute_result"
    }
   ],
   "source": [
    "df1.shape"
   ]
  },
  {
   "cell_type": "code",
   "execution_count": 20,
   "metadata": {},
   "outputs": [],
   "source": [
    "df2= df1.groupby('PostalCode').agg(lambda x: ','.join(x))\n",
    "\n",
    "#df2.head()"
   ]
  },
  {
   "cell_type": "code",
   "execution_count": 21,
   "metadata": {},
   "outputs": [
    {
     "name": "stdout",
     "output_type": "stream",
     "text": [
      "<class 'pandas.core.frame.DataFrame'>\n",
      "Index: 103 entries, M1B to M9W\n",
      "Data columns (total 2 columns):\n",
      "Borough          103 non-null object\n",
      "Neighbourhood    103 non-null object\n",
      "dtypes: object(2)\n",
      "memory usage: 2.4+ KB\n"
     ]
    }
   ],
   "source": [
    "df2.info()"
   ]
  },
  {
   "cell_type": "code",
   "execution_count": 22,
   "metadata": {},
   "outputs": [
    {
     "data": {
      "text/plain": [
       "(103, 2)"
      ]
     },
     "execution_count": 22,
     "metadata": {},
     "output_type": "execute_result"
    }
   ],
   "source": [
    "df2.shape"
   ]
  },
  {
   "cell_type": "code",
   "execution_count": 23,
   "metadata": {},
   "outputs": [],
   "source": [
    "df2.loc[df2['Neighbourhood']==\"Not assigned\",'Neighbourhood']=df2.loc[df2['Neighbourhood']==\"Not assigned\",'Borough']\n",
    "\n",
    "#df2.head()"
   ]
  },
  {
   "cell_type": "code",
   "execution_count": 24,
   "metadata": {},
   "outputs": [],
   "source": [
    "df3 = df2.reset_index()\n",
    "#df3.head()"
   ]
  },
  {
   "cell_type": "code",
   "execution_count": 25,
   "metadata": {},
   "outputs": [],
   "source": [
    "df3['Borough']= df3['Borough'].str.replace('nan|[{}\\s]','').str.split(',').apply(set).str.join(',').str.strip(',').str.replace(\",{2,}\",\",\")"
   ]
  },
  {
   "cell_type": "code",
   "execution_count": 26,
   "metadata": {},
   "outputs": [
    {
     "data": {
      "text/html": [
       "<div>\n",
       "<style scoped>\n",
       "    .dataframe tbody tr th:only-of-type {\n",
       "        vertical-align: middle;\n",
       "    }\n",
       "\n",
       "    .dataframe tbody tr th {\n",
       "        vertical-align: top;\n",
       "    }\n",
       "\n",
       "    .dataframe thead th {\n",
       "        text-align: right;\n",
       "    }\n",
       "</style>\n",
       "<table border=\"1\" class=\"dataframe\">\n",
       "  <thead>\n",
       "    <tr style=\"text-align: right;\">\n",
       "      <th></th>\n",
       "      <th>PostalCode</th>\n",
       "      <th>Borough</th>\n",
       "      <th>Neighbourhood</th>\n",
       "    </tr>\n",
       "  </thead>\n",
       "  <tbody>\n",
       "    <tr>\n",
       "      <th>0</th>\n",
       "      <td>M1B</td>\n",
       "      <td>Scarborough</td>\n",
       "      <td>Malvern / Rouge</td>\n",
       "    </tr>\n",
       "    <tr>\n",
       "      <th>1</th>\n",
       "      <td>M1C</td>\n",
       "      <td>Scarborough</td>\n",
       "      <td>Rouge Hill / Port Union / Highland Creek</td>\n",
       "    </tr>\n",
       "    <tr>\n",
       "      <th>2</th>\n",
       "      <td>M1E</td>\n",
       "      <td>Scarborough</td>\n",
       "      <td>Guildwood / Morningside / West Hill</td>\n",
       "    </tr>\n",
       "    <tr>\n",
       "      <th>3</th>\n",
       "      <td>M1G</td>\n",
       "      <td>Scarborough</td>\n",
       "      <td>Woburn</td>\n",
       "    </tr>\n",
       "    <tr>\n",
       "      <th>4</th>\n",
       "      <td>M1H</td>\n",
       "      <td>Scarborough</td>\n",
       "      <td>Cedarbrae</td>\n",
       "    </tr>\n",
       "  </tbody>\n",
       "</table>\n",
       "</div>"
      ],
      "text/plain": [
       "  PostalCode      Borough                             Neighbourhood\n",
       "0        M1B  Scarborough                           Malvern / Rouge\n",
       "1        M1C  Scarborough  Rouge Hill / Port Union / Highland Creek\n",
       "2        M1E  Scarborough       Guildwood / Morningside / West Hill\n",
       "3        M1G  Scarborough                                    Woburn\n",
       "4        M1H  Scarborough                                 Cedarbrae"
      ]
     },
     "execution_count": 26,
     "metadata": {},
     "output_type": "execute_result"
    }
   ],
   "source": [
    "df3.head()"
   ]
  },
  {
   "cell_type": "code",
   "execution_count": 27,
   "metadata": {},
   "outputs": [
    {
     "name": "stdout",
     "output_type": "stream",
     "text": [
      "<class 'pandas.core.frame.DataFrame'>\n",
      "RangeIndex: 103 entries, 0 to 102\n",
      "Data columns (total 3 columns):\n",
      "PostalCode       103 non-null object\n",
      "Borough          103 non-null object\n",
      "Neighbourhood    103 non-null object\n",
      "dtypes: object(3)\n",
      "memory usage: 2.5+ KB\n"
     ]
    }
   ],
   "source": [
    "df3.info()"
   ]
  },
  {
   "cell_type": "code",
   "execution_count": 28,
   "metadata": {},
   "outputs": [
    {
     "data": {
      "text/plain": [
       "(103, 3)"
      ]
     },
     "execution_count": 28,
     "metadata": {},
     "output_type": "execute_result"
    }
   ],
   "source": [
    "df3.shape"
   ]
  },
  {
   "cell_type": "markdown",
   "metadata": {},
   "source": [
    "# part 2\n"
   ]
  },
  {
   "cell_type": "code",
   "execution_count": 307,
   "metadata": {},
   "outputs": [
    {
     "name": "stdout",
     "output_type": "stream",
     "text": [
      "Requirement already satisfied: geopy in /opt/conda/envs/Python36/lib/python3.6/site-packages (1.18.1)\n",
      "Requirement already satisfied: geographiclib<2,>=1.49 in /opt/conda/envs/Python36/lib/python3.6/site-packages (from geopy) (1.49)\n"
     ]
    }
   ],
   "source": [
    "import sys\n",
    "!{sys.executable} -m pip install geopy"
   ]
  },
  {
   "cell_type": "code",
   "execution_count": 308,
   "metadata": {},
   "outputs": [
    {
     "name": "stdout",
     "output_type": "stream",
     "text": [
      "latitude is :- 51.5073219 \n",
      "longtitude is:- -0.1276474\n"
     ]
    }
   ],
   "source": [
    "from  geopy.geocoders import Nominatim\n",
    "geolocator = Nominatim(user_agent=\"my-application\")\n",
    "city =\"London\"\n",
    "country =\"Uk\"\n",
    "loc = geolocator.geocode(city+','+ country)\n",
    "print(\"latitude is :-\" ,loc.latitude,\"\\nlongtitude is:-\" ,loc.longitude)"
   ]
  },
  {
   "cell_type": "code",
   "execution_count": 190,
   "metadata": {},
   "outputs": [
    {
     "name": "stdout",
     "output_type": "stream",
     "text": [
      "Parkwoods Village Drive, Parkway East, Don Valley East, North York, Toronto, Golden Horseshoe, Ontario, M3A 2X2, Canada\n",
      "\n",
      "(43.7587999, -79.3201966)\n",
      "\n",
      "{'place_id': 124974741, 'licence': 'Data © OpenStreetMap contributors, ODbL 1.0. https://osm.org/copyright', 'osm_type': 'way', 'osm_id': 160406961, 'boundingbox': ['43.7576231', '43.761106', '-79.3239088', '-79.316215'], 'lat': '43.7587999', 'lon': '-79.3201966', 'display_name': 'Parkwoods Village Drive, Parkway East, Don Valley East, North York, Toronto, Golden Horseshoe, Ontario, M3A 2X2, Canada', 'class': 'highway', 'type': 'secondary', 'importance': 0.51}\n"
     ]
    }
   ],
   "source": [
    "from  geopy.geocoders import Nominatim\n",
    "geolocator = Nominatim(user_agent=\"my-application\")\n",
    "location = geolocator.geocode(\"Toronto, North York, Parkwoods\")\n",
    "\n",
    "print(location.address)\n",
    "print('')\n",
    "print((location.latitude, location.longitude))\n",
    "print('')\n",
    "print(location.raw)"
   ]
  },
  {
   "cell_type": "code",
   "execution_count": 78,
   "metadata": {},
   "outputs": [],
   "source": [
    "import pandas as pd\n",
    "#df3.head()"
   ]
  },
  {
   "cell_type": "code",
   "execution_count": 191,
   "metadata": {},
   "outputs": [],
   "source": [
    "import pandas as pd\n",
    "df_geopy = pd.DataFrame({'PostalCode': ['M3A', 'M4A', 'M5A'],\n",
    "                         'Borough': ['North York', 'North York', 'Downtown Toronto'],\n",
    "                         'Neighbourhood': ['Parkwoods', 'Victoria Village', 'Harbourfront'],})\n",
    "\n",
    "from geopy.geocoders import Nominatim\n",
    "geolocator = Nominatim(user_agent=\"my-application\")"
   ]
  },
  {
   "cell_type": "code",
   "execution_count": 37,
   "metadata": {},
   "outputs": [],
   "source": [
    "df_geopy1 = df3\n",
    "#df_geopy1"
   ]
  },
  {
   "cell_type": "code",
   "execution_count": 309,
   "metadata": {},
   "outputs": [
    {
     "data": {
      "text/html": [
       "<div>\n",
       "<style scoped>\n",
       "    .dataframe tbody tr th:only-of-type {\n",
       "        vertical-align: middle;\n",
       "    }\n",
       "\n",
       "    .dataframe tbody tr th {\n",
       "        vertical-align: top;\n",
       "    }\n",
       "\n",
       "    .dataframe thead th {\n",
       "        text-align: right;\n",
       "    }\n",
       "</style>\n",
       "<table border=\"1\" class=\"dataframe\">\n",
       "  <thead>\n",
       "    <tr style=\"text-align: right;\">\n",
       "      <th></th>\n",
       "      <th>PostalCode</th>\n",
       "      <th>Borough</th>\n",
       "      <th>Neighbourhood</th>\n",
       "      <th>address</th>\n",
       "      <th>Coordinates</th>\n",
       "      <th>latitude</th>\n",
       "      <th>longitude</th>\n",
       "    </tr>\n",
       "  </thead>\n",
       "  <tbody>\n",
       "    <tr>\n",
       "      <th>0</th>\n",
       "      <td>M1B</td>\n",
       "      <td>Scarborough</td>\n",
       "      <td>Malvern / Rouge</td>\n",
       "      <td>M1B, Scarborough, Malvern / Rouge</td>\n",
       "      <td>None</td>\n",
       "      <td>NaN</td>\n",
       "      <td>NaN</td>\n",
       "    </tr>\n",
       "    <tr>\n",
       "      <th>1</th>\n",
       "      <td>M1C</td>\n",
       "      <td>Scarborough</td>\n",
       "      <td>Rouge Hill / Port Union / Highland Creek</td>\n",
       "      <td>M1C, Scarborough, Rouge Hill / Port Union / Hi...</td>\n",
       "      <td>None</td>\n",
       "      <td>NaN</td>\n",
       "      <td>NaN</td>\n",
       "    </tr>\n",
       "    <tr>\n",
       "      <th>2</th>\n",
       "      <td>M1E</td>\n",
       "      <td>Scarborough</td>\n",
       "      <td>Guildwood / Morningside / West Hill</td>\n",
       "      <td>M1E, Scarborough, Guildwood / Morningside / We...</td>\n",
       "      <td>None</td>\n",
       "      <td>NaN</td>\n",
       "      <td>NaN</td>\n",
       "    </tr>\n",
       "    <tr>\n",
       "      <th>3</th>\n",
       "      <td>M1G</td>\n",
       "      <td>Scarborough</td>\n",
       "      <td>Woburn</td>\n",
       "      <td>M1G, Scarborough, Woburn</td>\n",
       "      <td>(Woburn, Scarborough—Guildwood, Scarborough, T...</td>\n",
       "      <td>43.759824</td>\n",
       "      <td>-79.225291</td>\n",
       "    </tr>\n",
       "    <tr>\n",
       "      <th>4</th>\n",
       "      <td>M1H</td>\n",
       "      <td>Scarborough</td>\n",
       "      <td>Cedarbrae</td>\n",
       "      <td>M1H, Scarborough, Cedarbrae</td>\n",
       "      <td>None</td>\n",
       "      <td>NaN</td>\n",
       "      <td>NaN</td>\n",
       "    </tr>\n",
       "  </tbody>\n",
       "</table>\n",
       "</div>"
      ],
      "text/plain": [
       "  PostalCode      Borough                             Neighbourhood  \\\n",
       "0        M1B  Scarborough                           Malvern / Rouge   \n",
       "1        M1C  Scarborough  Rouge Hill / Port Union / Highland Creek   \n",
       "2        M1E  Scarborough       Guildwood / Morningside / West Hill   \n",
       "3        M1G  Scarborough                                    Woburn   \n",
       "4        M1H  Scarborough                                 Cedarbrae   \n",
       "\n",
       "                                             address  \\\n",
       "0                  M1B, Scarborough, Malvern / Rouge   \n",
       "1  M1C, Scarborough, Rouge Hill / Port Union / Hi...   \n",
       "2  M1E, Scarborough, Guildwood / Morningside / We...   \n",
       "3                           M1G, Scarborough, Woburn   \n",
       "4                        M1H, Scarborough, Cedarbrae   \n",
       "\n",
       "                                         Coordinates   latitude  longitude  \n",
       "0                                               None        NaN        NaN  \n",
       "1                                               None        NaN        NaN  \n",
       "2                                               None        NaN        NaN  \n",
       "3  (Woburn, Scarborough—Guildwood, Scarborough, T...  43.759824 -79.225291  \n",
       "4                                               None        NaN        NaN  "
      ]
     },
     "execution_count": 309,
     "metadata": {},
     "output_type": "execute_result"
    }
   ],
   "source": [
    "from geopy.geocoders import Nominatim\n",
    "geolocator = Nominatim(user_agent=\"my-application\")\n",
    "\n",
    "df_geopy1['address'] = df3[['PostalCode', 'Borough', 'Neighbourhood']].apply(lambda x: ', '.join(x), axis=1 )\n",
    "df_geopy1.head()"
   ]
  },
  {
   "cell_type": "code",
   "execution_count": 81,
   "metadata": {},
   "outputs": [],
   "source": [
    "df_geopy1 = df3"
   ]
  },
  {
   "cell_type": "code",
   "execution_count": 82,
   "metadata": {},
   "outputs": [
    {
     "data": {
      "text/plain": [
       "(103, 5)"
      ]
     },
     "execution_count": 82,
     "metadata": {},
     "output_type": "execute_result"
    }
   ],
   "source": [
    "df_geopy1.shape"
   ]
  },
  {
   "cell_type": "code",
   "execution_count": 41,
   "metadata": {},
   "outputs": [
    {
     "name": "stdout",
     "output_type": "stream",
     "text": [
      "<class 'pandas.core.frame.DataFrame'>\n",
      "RangeIndex: 103 entries, 0 to 102\n",
      "Data columns (total 4 columns):\n",
      "PostalCode       103 non-null object\n",
      "Borough          103 non-null object\n",
      "Neighbourhood    103 non-null object\n",
      "address          103 non-null object\n",
      "dtypes: object(4)\n",
      "memory usage: 3.3+ KB\n"
     ]
    }
   ],
   "source": [
    "df_geopy1.info()"
   ]
  },
  {
   "cell_type": "code",
   "execution_count": 42,
   "metadata": {},
   "outputs": [
    {
     "name": "stdout",
     "output_type": "stream",
     "text": [
      "<class 'pandas.core.frame.DataFrame'>\n",
      "Int64Index: 103 entries, 0 to 102\n",
      "Data columns (total 4 columns):\n",
      "PostalCode       103 non-null object\n",
      "Borough          103 non-null object\n",
      "Neighbourhood    103 non-null object\n",
      "address          103 non-null object\n",
      "dtypes: object(4)\n",
      "memory usage: 4.0+ KB\n"
     ]
    }
   ],
   "source": [
    "df_geopy1.drop(df_geopy1[df_geopy1['Borough']==\"Notassigned\"].index,axis=0, inplace=True)\n",
    "#df_geopy1\n",
    "# code holds true up until i=102\n",
    "df_geopy1.info()"
   ]
  },
  {
   "cell_type": "code",
   "execution_count": 43,
   "metadata": {},
   "outputs": [],
   "source": [
    "#df_geopy1.head()"
   ]
  },
  {
   "cell_type": "code",
   "execution_count": 44,
   "metadata": {},
   "outputs": [
    {
     "data": {
      "text/plain": [
       "(103, 4)"
      ]
     },
     "execution_count": 44,
     "metadata": {},
     "output_type": "execute_result"
    }
   ],
   "source": [
    "df_geopy1.shape"
   ]
  },
  {
   "cell_type": "code",
   "execution_count": 45,
   "metadata": {},
   "outputs": [],
   "source": [
    "df_geopy1.to_csv('geopy1.csv')\n",
    "# no data for location after row 75"
   ]
  },
  {
   "cell_type": "code",
   "execution_count": 136,
   "metadata": {},
   "outputs": [],
   "source": [
    "from  geopy.geocoders import Nominatim \n",
    "geolocator = Nominatim(user_agent=\"my-application\")\n",
    "location = geolocator.geocode(\"M1G, Scarborough, Woburn\")\n",
    "\n",
    "\n",
    "#print(location.address)\n",
    "\n",
    "#print((location.latitude, location.longitude))\n",
    "\n",
    "#print(location.raw)"
   ]
  },
  {
   "cell_type": "code",
   "execution_count": 298,
   "metadata": {},
   "outputs": [
    {
     "name": "stdout",
     "output_type": "stream",
     "text": [
      "Collecting geocoder\n",
      "\u001b[?25l  Downloading https://files.pythonhosted.org/packages/4f/6b/13166c909ad2f2d76b929a4227c952630ebaf0d729f6317eb09cbceccbab/geocoder-1.38.1-py2.py3-none-any.whl (98kB)\n",
      "\u001b[K     |████████████████████████████████| 102kB 17.2MB/s ta 0:00:01\n",
      "\u001b[?25hRequirement already satisfied: click in /opt/conda/envs/Python36/lib/python3.6/site-packages (from geocoder) (7.0)\n",
      "Requirement already satisfied: requests in /opt/conda/envs/Python36/lib/python3.6/site-packages (from geocoder) (2.21.0)\n",
      "Requirement already satisfied: future in /opt/conda/envs/Python36/lib/python3.6/site-packages (from geocoder) (0.17.1)\n",
      "Requirement already satisfied: six in /opt/conda/envs/Python36/lib/python3.6/site-packages (from geocoder) (1.12.0)\n",
      "Collecting ratelim (from geocoder)\n",
      "  Downloading https://files.pythonhosted.org/packages/f2/98/7e6d147fd16a10a5f821db6e25f192265d6ecca3d82957a4fdd592cad49c/ratelim-0.1.6-py2.py3-none-any.whl\n",
      "Requirement already satisfied: urllib3<1.25,>=1.21.1 in /opt/conda/envs/Python36/lib/python3.6/site-packages (from requests->geocoder) (1.24.1)\n",
      "Requirement already satisfied: certifi>=2017.4.17 in /opt/conda/envs/Python36/lib/python3.6/site-packages (from requests->geocoder) (2020.4.5.1)\n",
      "Requirement already satisfied: chardet<3.1.0,>=3.0.2 in /opt/conda/envs/Python36/lib/python3.6/site-packages (from requests->geocoder) (3.0.4)\n",
      "Requirement already satisfied: idna<2.9,>=2.5 in /opt/conda/envs/Python36/lib/python3.6/site-packages (from requests->geocoder) (2.8)\n",
      "Requirement already satisfied: decorator in /opt/conda/envs/Python36/lib/python3.6/site-packages (from ratelim->geocoder) (4.3.2)\n",
      "Installing collected packages: ratelim, geocoder\n",
      "Successfully installed geocoder-1.38.1 ratelim-0.1.6\n"
     ]
    }
   ],
   "source": [
    "import sys\n",
    "!{sys.executable} -m pip install geocoder"
   ]
  },
  {
   "cell_type": "code",
   "execution_count": 299,
   "metadata": {},
   "outputs": [],
   "source": [
    "df3.to_csv('geopy.csv')"
   ]
  },
  {
   "cell_type": "code",
   "execution_count": 85,
   "metadata": {},
   "outputs": [],
   "source": [
    "import csv\n",
    "\n",
    "with open('geopy.csv') as csvfile:\n",
    "     reader = csv.DictReader(csvfile)\n",
    "     #for row in reader:\n",
    "         #print(row['PostalCode'],row['Borough'], row['Neighbourhood'] )"
   ]
  },
  {
   "cell_type": "code",
   "execution_count": 140,
   "metadata": {},
   "outputs": [],
   "source": [
    "from  geopy.geocoders import Nominatim\n",
    "geolocator = Nominatim(user_agent=\"my-application\")\n",
    "location = geolocator.geocode(\"M1B Scarborough Rouge,Malvern\")\n",
    "\n",
    "#print(location.address)\n",
    "\n",
    "#print((location.latitude, location.longitude))\n",
    "\n",
    "#print(location.raw)"
   ]
  },
  {
   "cell_type": "code",
   "execution_count": 141,
   "metadata": {},
   "outputs": [],
   "source": [
    "from  geopy.geocoders import Nominatim\n",
    "geolocator = Nominatim(user_agent=\"my-application\")\n",
    "location = geolocator.geocode(\"Toronto, Highland Creek\")\n",
    "\n",
    "#print(location.address)\n",
    "\n",
    "#print((location.latitude, location.longitude))\n",
    "\n",
    "#print(location.raw)\n",
    "\n",
    "#M1C Scarborough Highland Creek,Rouge Hill,Port Union = no address"
   ]
  },
  {
   "cell_type": "code",
   "execution_count": 142,
   "metadata": {},
   "outputs": [],
   "source": [
    "from  geopy.geocoders import Nominatim\n",
    "geolocator = Nominatim(user_agent=\"my-application\")\n",
    "location = geolocator.geocode(\"Toronto, Morningside\")\n",
    "\n",
    "#print(location.address)\n",
    "\n",
    "#print((location.latitude, location.longitude))\n",
    "\n",
    "#print(location.raw)\n",
    "\n",
    "#M1E Scarborough Guildwood,Morningside,West Hill = no address"
   ]
  },
  {
   "cell_type": "code",
   "execution_count": 89,
   "metadata": {},
   "outputs": [],
   "source": [
    "import numpy as np\n",
    "import csv\n",
    "\n",
    "\n",
    "PostalCode = None\n",
    "Borough = None\n",
    "Neighbourhood = None\n",
    "latData = None\n",
    "longData = None\n",
    "\n",
    "LAT_Woburn = 43.7598243\n",
    "LONG_Woburn = -79.2252908\n",
    "LAT_Malvern = 43.8091955\n",
    "LONG_Malvern = -79.2217008\n",
    "LAT_Highland_Creek = 43.7901172\n",
    "LONG_Highland_Creek = -79.1733344\n",
    "LAT_Morningside = 43.7826012\n",
    "LONG_Morningside = -79.2049579\n",
    "\n",
    " \n",
    "PostalCode = np.array(['M1H','M1B','M1C','M1G '])\n",
    "Borough = np.array(['Scarborough','Scarborough','Scarborough','Scarborough'])\n",
    "Neighbourhood = np.array(['Woburn','Malvern','Highland_Creek','Morningside'])\n",
    "latData = np.array([43.7598243,43.8091955, 43.7901172 , 43.7826012])\n",
    "longData = np.array([-79.2252908,-79.2217008,-79.1733344, -79.2049579 ])\n",
    "\n",
    "with open('data.csv', 'w') as file:\n",
    "    writer = csv.writer(file, delimiter=',')\n",
    "    writer.writerow('ABXYZ')\n",
    "    for a,b,x,y,z in np.nditer([ PostalCode.T, Borough.T, Neighbourhood.T, latData.T, longData.T], order='C'):\n",
    "        writer.writerow([a,b,x,y,z])    "
   ]
  },
  {
   "cell_type": "code",
   "execution_count": 90,
   "metadata": {},
   "outputs": [
    {
     "name": "stdout",
     "output_type": "stream",
     "text": [
      "M1H Scarborough Woburn 43.7598243 -79.2252908\n",
      "M1B Scarborough Malvern 43.8091955 -79.2217008\n",
      "M1C Scarborough Highland_Creek 43.7901172 -79.1733344\n",
      "M1G  Scarborough Morningside 43.7826012 -79.2049579\n"
     ]
    }
   ],
   "source": [
    "import csv\n",
    "\n",
    "with open('data.csv') as csvfile:\n",
    "     reader = csv.DictReader(csvfile)\n",
    "     for row in reader:\n",
    "         print(row['A'], row['B'],row['X'], row['Y'], row['Z'])"
   ]
  },
  {
   "cell_type": "code",
   "execution_count": 214,
   "metadata": {},
   "outputs": [
    {
     "data": {
      "text/html": [
       "<div>\n",
       "<style scoped>\n",
       "    .dataframe tbody tr th:only-of-type {\n",
       "        vertical-align: middle;\n",
       "    }\n",
       "\n",
       "    .dataframe tbody tr th {\n",
       "        vertical-align: top;\n",
       "    }\n",
       "\n",
       "    .dataframe thead th {\n",
       "        text-align: right;\n",
       "    }\n",
       "</style>\n",
       "<table border=\"1\" class=\"dataframe\">\n",
       "  <thead>\n",
       "    <tr style=\"text-align: right;\">\n",
       "      <th></th>\n",
       "      <th>A</th>\n",
       "      <th>B</th>\n",
       "      <th>X</th>\n",
       "      <th>Y</th>\n",
       "      <th>Z</th>\n",
       "    </tr>\n",
       "  </thead>\n",
       "  <tbody>\n",
       "    <tr>\n",
       "      <th>0</th>\n",
       "      <td>M1H</td>\n",
       "      <td>Scarborough</td>\n",
       "      <td>Woburn</td>\n",
       "      <td>43.759824</td>\n",
       "      <td>-79.225291</td>\n",
       "    </tr>\n",
       "    <tr>\n",
       "      <th>1</th>\n",
       "      <td>M1B</td>\n",
       "      <td>Scarborough</td>\n",
       "      <td>Malvern</td>\n",
       "      <td>43.809196</td>\n",
       "      <td>-79.221701</td>\n",
       "    </tr>\n",
       "    <tr>\n",
       "      <th>2</th>\n",
       "      <td>M1C</td>\n",
       "      <td>Scarborough</td>\n",
       "      <td>Highland_Creek</td>\n",
       "      <td>43.790117</td>\n",
       "      <td>-79.173334</td>\n",
       "    </tr>\n",
       "    <tr>\n",
       "      <th>3</th>\n",
       "      <td>M1G</td>\n",
       "      <td>Scarborough</td>\n",
       "      <td>Morningside</td>\n",
       "      <td>43.782601</td>\n",
       "      <td>-79.204958</td>\n",
       "    </tr>\n",
       "  </tbody>\n",
       "</table>\n",
       "</div>"
      ],
      "text/plain": [
       "      A            B               X          Y          Z\n",
       "0   M1H  Scarborough          Woburn  43.759824 -79.225291\n",
       "1   M1B  Scarborough         Malvern  43.809196 -79.221701\n",
       "2   M1C  Scarborough  Highland_Creek  43.790117 -79.173334\n",
       "3  M1G   Scarborough     Morningside  43.782601 -79.204958"
      ]
     },
     "execution_count": 214,
     "metadata": {},
     "output_type": "execute_result"
    }
   ],
   "source": [
    "pd.read_csv('data.csv') "
   ]
  },
  {
   "cell_type": "code",
   "execution_count": 215,
   "metadata": {},
   "outputs": [],
   "source": [
    "import pandas, os\n",
    "#os.listdir()"
   ]
  },
  {
   "cell_type": "code",
   "execution_count": 216,
   "metadata": {},
   "outputs": [],
   "source": [
    "df_geopy=df3\n",
    "#df_geopy.head()"
   ]
  },
  {
   "cell_type": "code",
   "execution_count": 217,
   "metadata": {},
   "outputs": [],
   "source": [
    "import geopy\n",
    "#dir(geopy)"
   ]
  },
  {
   "cell_type": "code",
   "execution_count": 218,
   "metadata": {},
   "outputs": [
    {
     "data": {
      "text/plain": [
       "pandas.core.frame.DataFrame"
      ]
     },
     "execution_count": 218,
     "metadata": {},
     "output_type": "execute_result"
    }
   ],
   "source": [
    "type(df_geopy)"
   ]
  },
  {
   "cell_type": "code",
   "execution_count": 219,
   "metadata": {},
   "outputs": [
    {
     "name": "stdout",
     "output_type": "stream",
     "text": [
      "<class 'pandas.core.frame.DataFrame'>\n",
      "Int64Index: 103 entries, 0 to 102\n",
      "Data columns (total 7 columns):\n",
      "PostalCode       103 non-null object\n",
      "Borough          103 non-null object\n",
      "Neighbourhood    103 non-null object\n",
      "address          103 non-null object\n",
      "Coordinates      2 non-null object\n",
      "latitude         2 non-null float64\n",
      "longitude        2 non-null float64\n",
      "dtypes: float64(2), object(5)\n",
      "memory usage: 11.4+ KB\n"
     ]
    }
   ],
   "source": [
    "df_geopy.info()"
   ]
  },
  {
   "cell_type": "code",
   "execution_count": 238,
   "metadata": {
    "scrolled": true
   },
   "outputs": [
    {
     "name": "stdout",
     "output_type": "stream",
     "text": [
      "Requirement already satisfied: geopy in /opt/conda/envs/Python36/lib/python3.6/site-packages (1.18.1)\n",
      "Requirement already satisfied: geographiclib<2,>=1.49 in /opt/conda/envs/Python36/lib/python3.6/site-packages (from geopy) (1.49)\n"
     ]
    }
   ],
   "source": [
    "import sys\n",
    "!{sys.executable} -m pip install geopy\n"
   ]
  },
  {
   "cell_type": "code",
   "execution_count": 258,
   "metadata": {},
   "outputs": [
    {
     "name": "stdout",
     "output_type": "stream",
     "text": [
      "Nominatim imported\n"
     ]
    }
   ],
   "source": [
    "from geopy.geocoders import Nominatim()\n",
    "print('Nominatim imported')"
   ]
  },
  {
   "cell_type": "code",
   "execution_count": 259,
   "metadata": {},
   "outputs": [
    {
     "data": {
      "text/html": [
       "<div>\n",
       "<style scoped>\n",
       "    .dataframe tbody tr th:only-of-type {\n",
       "        vertical-align: middle;\n",
       "    }\n",
       "\n",
       "    .dataframe tbody tr th {\n",
       "        vertical-align: top;\n",
       "    }\n",
       "\n",
       "    .dataframe thead th {\n",
       "        text-align: right;\n",
       "    }\n",
       "</style>\n",
       "<table border=\"1\" class=\"dataframe\">\n",
       "  <thead>\n",
       "    <tr style=\"text-align: right;\">\n",
       "      <th></th>\n",
       "      <th>PostalCode</th>\n",
       "      <th>Borough</th>\n",
       "      <th>Neighbourhood</th>\n",
       "      <th>address</th>\n",
       "      <th>Coordinates</th>\n",
       "      <th>latitude</th>\n",
       "      <th>longitude</th>\n",
       "    </tr>\n",
       "  </thead>\n",
       "  <tbody>\n",
       "    <tr>\n",
       "      <th>0</th>\n",
       "      <td>M1B</td>\n",
       "      <td>Scarborough</td>\n",
       "      <td>Malvern / Rouge</td>\n",
       "      <td>M1B,Scarborough,Malvern / Rouge</td>\n",
       "      <td>None</td>\n",
       "      <td>NaN</td>\n",
       "      <td>NaN</td>\n",
       "    </tr>\n",
       "    <tr>\n",
       "      <th>1</th>\n",
       "      <td>M1C</td>\n",
       "      <td>Scarborough</td>\n",
       "      <td>Rouge Hill / Port Union / Highland Creek</td>\n",
       "      <td>M1C,Scarborough,Rouge Hill / Port Union / High...</td>\n",
       "      <td>None</td>\n",
       "      <td>NaN</td>\n",
       "      <td>NaN</td>\n",
       "    </tr>\n",
       "    <tr>\n",
       "      <th>2</th>\n",
       "      <td>M1E</td>\n",
       "      <td>Scarborough</td>\n",
       "      <td>Guildwood / Morningside / West Hill</td>\n",
       "      <td>M1E,Scarborough,Guildwood / Morningside / West...</td>\n",
       "      <td>None</td>\n",
       "      <td>NaN</td>\n",
       "      <td>NaN</td>\n",
       "    </tr>\n",
       "    <tr>\n",
       "      <th>3</th>\n",
       "      <td>M1G</td>\n",
       "      <td>Scarborough</td>\n",
       "      <td>Woburn</td>\n",
       "      <td>M1G,Scarborough,Woburn</td>\n",
       "      <td>(Woburn, Scarborough—Guildwood, Scarborough, T...</td>\n",
       "      <td>43.759824</td>\n",
       "      <td>-79.225291</td>\n",
       "    </tr>\n",
       "    <tr>\n",
       "      <th>4</th>\n",
       "      <td>M1H</td>\n",
       "      <td>Scarborough</td>\n",
       "      <td>Cedarbrae</td>\n",
       "      <td>M1H,Scarborough,Cedarbrae</td>\n",
       "      <td>None</td>\n",
       "      <td>NaN</td>\n",
       "      <td>NaN</td>\n",
       "    </tr>\n",
       "  </tbody>\n",
       "</table>\n",
       "</div>"
      ],
      "text/plain": [
       "  PostalCode      Borough                             Neighbourhood  \\\n",
       "0        M1B  Scarborough                           Malvern / Rouge   \n",
       "1        M1C  Scarborough  Rouge Hill / Port Union / Highland Creek   \n",
       "2        M1E  Scarborough       Guildwood / Morningside / West Hill   \n",
       "3        M1G  Scarborough                                    Woburn   \n",
       "4        M1H  Scarborough                                 Cedarbrae   \n",
       "\n",
       "                                             address  \\\n",
       "0                    M1B,Scarborough,Malvern / Rouge   \n",
       "1  M1C,Scarborough,Rouge Hill / Port Union / High...   \n",
       "2  M1E,Scarborough,Guildwood / Morningside / West...   \n",
       "3                             M1G,Scarborough,Woburn   \n",
       "4                          M1H,Scarborough,Cedarbrae   \n",
       "\n",
       "                                         Coordinates   latitude  longitude  \n",
       "0                                               None        NaN        NaN  \n",
       "1                                               None        NaN        NaN  \n",
       "2                                               None        NaN        NaN  \n",
       "3  (Woburn, Scarborough—Guildwood, Scarborough, T...  43.759824 -79.225291  \n",
       "4                                               None        NaN        NaN  "
      ]
     },
     "execution_count": 259,
     "metadata": {},
     "output_type": "execute_result"
    }
   ],
   "source": [
    "df_geopy['address']=df_geopy['PostalCode'] + ',' + df_geopy['Borough'] + ','+ df_geopy['Neighbourhood']\n",
    "df_geopy.head()"
   ]
  },
  {
   "cell_type": "code",
   "execution_count": 273,
   "metadata": {},
   "outputs": [],
   "source": [
    "nom = Nominatim(user_agent=\"my-application\")"
   ]
  },
  {
   "cell_type": "code",
   "execution_count": 348,
   "metadata": {},
   "outputs": [],
   "source": [
    "n=nom.geocode('M1B, Scarborough, Rouge,Malvern')\n",
    "n"
   ]
  },
  {
   "cell_type": "code",
   "execution_count": 352,
   "metadata": {},
   "outputs": [
    {
     "ename": "AttributeError",
     "evalue": "'NoneType' object has no attribute 'latitude'",
     "output_type": "error",
     "traceback": [
      "\u001b[0;31m---------------------------------------------------------------------------\u001b[0m",
      "\u001b[0;31mAttributeError\u001b[0m                            Traceback (most recent call last)",
      "\u001b[0;32m<ipython-input-352-f2eba8427407>\u001b[0m in \u001b[0;36m<module>\u001b[0;34m\u001b[0m\n\u001b[0;32m----> 1\u001b[0;31m \u001b[0mn\u001b[0m\u001b[0;34m.\u001b[0m\u001b[0mlatitude\u001b[0m\u001b[0;34m\u001b[0m\u001b[0;34m\u001b[0m\u001b[0m\n\u001b[0m",
      "\u001b[0;31mAttributeError\u001b[0m: 'NoneType' object has no attribute 'latitude'"
     ]
    }
   ],
   "source": [
    "n.latitude"
   ]
  },
  {
   "cell_type": "code",
   "execution_count": 276,
   "metadata": {},
   "outputs": [
    {
     "data": {
      "text/plain": [
       "NoneType"
      ]
     },
     "execution_count": 276,
     "metadata": {},
     "output_type": "execute_result"
    }
   ],
   "source": [
    "type(n)"
   ]
  },
  {
   "cell_type": "code",
   "execution_count": 277,
   "metadata": {},
   "outputs": [
    {
     "name": "stdout",
     "output_type": "stream",
     "text": [
      "None\n"
     ]
    }
   ],
   "source": [
    "n2=nom.geocode('M1E Scarborough Guildwood,Morningside,West Hill')\n",
    "print(n2)"
   ]
  },
  {
   "cell_type": "code",
   "execution_count": 278,
   "metadata": {},
   "outputs": [
    {
     "data": {
      "text/html": [
       "<div>\n",
       "<style scoped>\n",
       "    .dataframe tbody tr th:only-of-type {\n",
       "        vertical-align: middle;\n",
       "    }\n",
       "\n",
       "    .dataframe tbody tr th {\n",
       "        vertical-align: top;\n",
       "    }\n",
       "\n",
       "    .dataframe thead th {\n",
       "        text-align: right;\n",
       "    }\n",
       "</style>\n",
       "<table border=\"1\" class=\"dataframe\">\n",
       "  <thead>\n",
       "    <tr style=\"text-align: right;\">\n",
       "      <th></th>\n",
       "      <th>PostalCode</th>\n",
       "      <th>Borough</th>\n",
       "      <th>Neighbourhood</th>\n",
       "      <th>address</th>\n",
       "      <th>Coordinates</th>\n",
       "      <th>latitude</th>\n",
       "      <th>longitude</th>\n",
       "    </tr>\n",
       "  </thead>\n",
       "  <tbody>\n",
       "    <tr>\n",
       "      <th>0</th>\n",
       "      <td>M1B</td>\n",
       "      <td>Scarborough</td>\n",
       "      <td>Malvern / Rouge</td>\n",
       "      <td>M1B,Scarborough,Malvern / Rouge</td>\n",
       "      <td>None</td>\n",
       "      <td>NaN</td>\n",
       "      <td>NaN</td>\n",
       "    </tr>\n",
       "    <tr>\n",
       "      <th>1</th>\n",
       "      <td>M1C</td>\n",
       "      <td>Scarborough</td>\n",
       "      <td>Rouge Hill / Port Union / Highland Creek</td>\n",
       "      <td>M1C,Scarborough,Rouge Hill / Port Union / High...</td>\n",
       "      <td>None</td>\n",
       "      <td>NaN</td>\n",
       "      <td>NaN</td>\n",
       "    </tr>\n",
       "    <tr>\n",
       "      <th>2</th>\n",
       "      <td>M1E</td>\n",
       "      <td>Scarborough</td>\n",
       "      <td>Guildwood / Morningside / West Hill</td>\n",
       "      <td>M1E,Scarborough,Guildwood / Morningside / West...</td>\n",
       "      <td>None</td>\n",
       "      <td>NaN</td>\n",
       "      <td>NaN</td>\n",
       "    </tr>\n",
       "    <tr>\n",
       "      <th>3</th>\n",
       "      <td>M1G</td>\n",
       "      <td>Scarborough</td>\n",
       "      <td>Woburn</td>\n",
       "      <td>M1G,Scarborough,Woburn</td>\n",
       "      <td>(Woburn, Scarborough—Guildwood, Scarborough, T...</td>\n",
       "      <td>43.759824</td>\n",
       "      <td>-79.225291</td>\n",
       "    </tr>\n",
       "    <tr>\n",
       "      <th>4</th>\n",
       "      <td>M1H</td>\n",
       "      <td>Scarborough</td>\n",
       "      <td>Cedarbrae</td>\n",
       "      <td>M1H,Scarborough,Cedarbrae</td>\n",
       "      <td>None</td>\n",
       "      <td>NaN</td>\n",
       "      <td>NaN</td>\n",
       "    </tr>\n",
       "  </tbody>\n",
       "</table>\n",
       "</div>"
      ],
      "text/plain": [
       "  PostalCode      Borough                             Neighbourhood  \\\n",
       "0        M1B  Scarborough                           Malvern / Rouge   \n",
       "1        M1C  Scarborough  Rouge Hill / Port Union / Highland Creek   \n",
       "2        M1E  Scarborough       Guildwood / Morningside / West Hill   \n",
       "3        M1G  Scarborough                                    Woburn   \n",
       "4        M1H  Scarborough                                 Cedarbrae   \n",
       "\n",
       "                                             address  \\\n",
       "0                    M1B,Scarborough,Malvern / Rouge   \n",
       "1  M1C,Scarborough,Rouge Hill / Port Union / High...   \n",
       "2  M1E,Scarborough,Guildwood / Morningside / West...   \n",
       "3                             M1G,Scarborough,Woburn   \n",
       "4                          M1H,Scarborough,Cedarbrae   \n",
       "\n",
       "                                         Coordinates   latitude  longitude  \n",
       "0                                               None        NaN        NaN  \n",
       "1                                               None        NaN        NaN  \n",
       "2                                               None        NaN        NaN  \n",
       "3  (Woburn, Scarborough—Guildwood, Scarborough, T...  43.759824 -79.225291  \n",
       "4                                               None        NaN        NaN  "
      ]
     },
     "execution_count": 278,
     "metadata": {},
     "output_type": "execute_result"
    }
   ],
   "source": [
    "df_geopy['Coordinates'] =df_geopy['address'].apply(nom.geocode)\n",
    "df_geopy.head()"
   ]
  },
  {
   "cell_type": "code",
   "execution_count": 279,
   "metadata": {},
   "outputs": [
    {
     "name": "stdout",
     "output_type": "stream",
     "text": [
      "<class 'pandas.core.frame.DataFrame'>\n",
      "Int64Index: 103 entries, 0 to 102\n",
      "Data columns (total 7 columns):\n",
      "PostalCode       103 non-null object\n",
      "Borough          103 non-null object\n",
      "Neighbourhood    103 non-null object\n",
      "address          103 non-null object\n",
      "Coordinates      2 non-null object\n",
      "latitude         2 non-null float64\n",
      "longitude        2 non-null float64\n",
      "dtypes: float64(2), object(5)\n",
      "memory usage: 11.4+ KB\n"
     ]
    }
   ],
   "source": [
    "df_geopy.info()"
   ]
  },
  {
   "cell_type": "code",
   "execution_count": 280,
   "metadata": {},
   "outputs": [],
   "source": [
    "df_geopy.Coordinates[0]"
   ]
  },
  {
   "cell_type": "code",
   "execution_count": 281,
   "metadata": {},
   "outputs": [
    {
     "name": "stdout",
     "output_type": "stream",
     "text": [
      "None\n"
     ]
    }
   ],
   "source": [
    "print(df_geopy.Coordinates[1])"
   ]
  },
  {
   "cell_type": "code",
   "execution_count": 282,
   "metadata": {},
   "outputs": [
    {
     "data": {
      "text/html": [
       "<div>\n",
       "<style scoped>\n",
       "    .dataframe tbody tr th:only-of-type {\n",
       "        vertical-align: middle;\n",
       "    }\n",
       "\n",
       "    .dataframe tbody tr th {\n",
       "        vertical-align: top;\n",
       "    }\n",
       "\n",
       "    .dataframe thead th {\n",
       "        text-align: right;\n",
       "    }\n",
       "</style>\n",
       "<table border=\"1\" class=\"dataframe\">\n",
       "  <thead>\n",
       "    <tr style=\"text-align: right;\">\n",
       "      <th></th>\n",
       "      <th>PostalCode</th>\n",
       "      <th>Borough</th>\n",
       "      <th>Neighbourhood</th>\n",
       "      <th>address</th>\n",
       "      <th>Coordinates</th>\n",
       "      <th>latitude</th>\n",
       "      <th>longitude</th>\n",
       "    </tr>\n",
       "  </thead>\n",
       "  <tbody>\n",
       "    <tr>\n",
       "      <th>0</th>\n",
       "      <td>M1B</td>\n",
       "      <td>Scarborough</td>\n",
       "      <td>Malvern / Rouge</td>\n",
       "      <td>M1B,Scarborough,Malvern / Rouge</td>\n",
       "      <td>None</td>\n",
       "      <td>NaN</td>\n",
       "      <td>NaN</td>\n",
       "    </tr>\n",
       "    <tr>\n",
       "      <th>1</th>\n",
       "      <td>M1C</td>\n",
       "      <td>Scarborough</td>\n",
       "      <td>Rouge Hill / Port Union / Highland Creek</td>\n",
       "      <td>M1C,Scarborough,Rouge Hill / Port Union / High...</td>\n",
       "      <td>None</td>\n",
       "      <td>NaN</td>\n",
       "      <td>NaN</td>\n",
       "    </tr>\n",
       "    <tr>\n",
       "      <th>2</th>\n",
       "      <td>M1E</td>\n",
       "      <td>Scarborough</td>\n",
       "      <td>Guildwood / Morningside / West Hill</td>\n",
       "      <td>M1E,Scarborough,Guildwood / Morningside / West...</td>\n",
       "      <td>None</td>\n",
       "      <td>NaN</td>\n",
       "      <td>NaN</td>\n",
       "    </tr>\n",
       "    <tr>\n",
       "      <th>3</th>\n",
       "      <td>M1G</td>\n",
       "      <td>Scarborough</td>\n",
       "      <td>Woburn</td>\n",
       "      <td>M1G,Scarborough,Woburn</td>\n",
       "      <td>(Woburn, Scarborough—Guildwood, Scarborough, T...</td>\n",
       "      <td>43.759824</td>\n",
       "      <td>-79.225291</td>\n",
       "    </tr>\n",
       "    <tr>\n",
       "      <th>4</th>\n",
       "      <td>M1H</td>\n",
       "      <td>Scarborough</td>\n",
       "      <td>Cedarbrae</td>\n",
       "      <td>M1H,Scarborough,Cedarbrae</td>\n",
       "      <td>None</td>\n",
       "      <td>NaN</td>\n",
       "      <td>NaN</td>\n",
       "    </tr>\n",
       "  </tbody>\n",
       "</table>\n",
       "</div>"
      ],
      "text/plain": [
       "  PostalCode      Borough                             Neighbourhood  \\\n",
       "0        M1B  Scarborough                           Malvern / Rouge   \n",
       "1        M1C  Scarborough  Rouge Hill / Port Union / Highland Creek   \n",
       "2        M1E  Scarborough       Guildwood / Morningside / West Hill   \n",
       "3        M1G  Scarborough                                    Woburn   \n",
       "4        M1H  Scarborough                                 Cedarbrae   \n",
       "\n",
       "                                             address  \\\n",
       "0                    M1B,Scarborough,Malvern / Rouge   \n",
       "1  M1C,Scarborough,Rouge Hill / Port Union / High...   \n",
       "2  M1E,Scarborough,Guildwood / Morningside / West...   \n",
       "3                             M1G,Scarborough,Woburn   \n",
       "4                          M1H,Scarborough,Cedarbrae   \n",
       "\n",
       "                                         Coordinates   latitude  longitude  \n",
       "0                                               None        NaN        NaN  \n",
       "1                                               None        NaN        NaN  \n",
       "2                                               None        NaN        NaN  \n",
       "3  (Woburn, Scarborough—Guildwood, Scarborough, T...  43.759824 -79.225291  \n",
       "4                                               None        NaN        NaN  "
      ]
     },
     "execution_count": 282,
     "metadata": {},
     "output_type": "execute_result"
    }
   ],
   "source": [
    "df_geopy['latitude']=df_geopy['Coordinates'].apply(lambda x: x.latitude if x !=None else None)\n",
    "df_geopy['longitude']=df_geopy['Coordinates'].apply(lambda x: x.longitude if x !=None else None)\n",
    "df_geopy.head()"
   ]
  },
  {
   "cell_type": "code",
   "execution_count": 302,
   "metadata": {},
   "outputs": [],
   "source": [
    "df_geopy.to_csv('geo_loc_py.csv')"
   ]
  },
  {
   "cell_type": "code",
   "execution_count": 303,
   "metadata": {},
   "outputs": [
    {
     "name": "stdout",
     "output_type": "stream",
     "text": [
      "The latitude of M1B,Scarborough,Malvern / Rouge is nan and its longitude is nan\n"
     ]
    }
   ],
   "source": [
    "print('The latitude of', df_geopy.address[0],  'is', df_geopy.latitude[0], 'and its longitude is',df_geopy.longitude[0])"
   ]
  },
  {
   "cell_type": "code",
   "execution_count": 304,
   "metadata": {},
   "outputs": [
    {
     "data": {
      "text/html": [
       "<div>\n",
       "<style scoped>\n",
       "    .dataframe tbody tr th:only-of-type {\n",
       "        vertical-align: middle;\n",
       "    }\n",
       "\n",
       "    .dataframe tbody tr th {\n",
       "        vertical-align: top;\n",
       "    }\n",
       "\n",
       "    .dataframe thead th {\n",
       "        text-align: right;\n",
       "    }\n",
       "</style>\n",
       "<table border=\"1\" class=\"dataframe\">\n",
       "  <thead>\n",
       "    <tr style=\"text-align: right;\">\n",
       "      <th></th>\n",
       "      <th>Unnamed: 0</th>\n",
       "      <th>PostalCode</th>\n",
       "      <th>Borough</th>\n",
       "      <th>Neighbourhood</th>\n",
       "      <th>address</th>\n",
       "      <th>Coordinates</th>\n",
       "      <th>latitude</th>\n",
       "      <th>longitude</th>\n",
       "    </tr>\n",
       "  </thead>\n",
       "  <tbody>\n",
       "    <tr>\n",
       "      <th>0</th>\n",
       "      <td>0</td>\n",
       "      <td>M1B</td>\n",
       "      <td>Scarborough</td>\n",
       "      <td>Malvern / Rouge</td>\n",
       "      <td>M1B,Scarborough,Malvern / Rouge</td>\n",
       "      <td>NaN</td>\n",
       "      <td>NaN</td>\n",
       "      <td>NaN</td>\n",
       "    </tr>\n",
       "    <tr>\n",
       "      <th>1</th>\n",
       "      <td>1</td>\n",
       "      <td>M1C</td>\n",
       "      <td>Scarborough</td>\n",
       "      <td>Rouge Hill / Port Union / Highland Creek</td>\n",
       "      <td>M1C,Scarborough,Rouge Hill / Port Union / High...</td>\n",
       "      <td>NaN</td>\n",
       "      <td>NaN</td>\n",
       "      <td>NaN</td>\n",
       "    </tr>\n",
       "    <tr>\n",
       "      <th>2</th>\n",
       "      <td>2</td>\n",
       "      <td>M1E</td>\n",
       "      <td>Scarborough</td>\n",
       "      <td>Guildwood / Morningside / West Hill</td>\n",
       "      <td>M1E,Scarborough,Guildwood / Morningside / West...</td>\n",
       "      <td>NaN</td>\n",
       "      <td>NaN</td>\n",
       "      <td>NaN</td>\n",
       "    </tr>\n",
       "    <tr>\n",
       "      <th>3</th>\n",
       "      <td>3</td>\n",
       "      <td>M1G</td>\n",
       "      <td>Scarborough</td>\n",
       "      <td>Woburn</td>\n",
       "      <td>M1G,Scarborough,Woburn</td>\n",
       "      <td>Woburn, Scarborough—Guildwood, Scarborough, To...</td>\n",
       "      <td>43.759824</td>\n",
       "      <td>-79.225291</td>\n",
       "    </tr>\n",
       "    <tr>\n",
       "      <th>4</th>\n",
       "      <td>4</td>\n",
       "      <td>M1H</td>\n",
       "      <td>Scarborough</td>\n",
       "      <td>Cedarbrae</td>\n",
       "      <td>M1H,Scarborough,Cedarbrae</td>\n",
       "      <td>NaN</td>\n",
       "      <td>NaN</td>\n",
       "      <td>NaN</td>\n",
       "    </tr>\n",
       "  </tbody>\n",
       "</table>\n",
       "</div>"
      ],
      "text/plain": [
       "   Unnamed: 0 PostalCode      Borough  \\\n",
       "0           0        M1B  Scarborough   \n",
       "1           1        M1C  Scarborough   \n",
       "2           2        M1E  Scarborough   \n",
       "3           3        M1G  Scarborough   \n",
       "4           4        M1H  Scarborough   \n",
       "\n",
       "                              Neighbourhood  \\\n",
       "0                           Malvern / Rouge   \n",
       "1  Rouge Hill / Port Union / Highland Creek   \n",
       "2       Guildwood / Morningside / West Hill   \n",
       "3                                    Woburn   \n",
       "4                                 Cedarbrae   \n",
       "\n",
       "                                             address  \\\n",
       "0                    M1B,Scarborough,Malvern / Rouge   \n",
       "1  M1C,Scarborough,Rouge Hill / Port Union / High...   \n",
       "2  M1E,Scarborough,Guildwood / Morningside / West...   \n",
       "3                             M1G,Scarborough,Woburn   \n",
       "4                          M1H,Scarborough,Cedarbrae   \n",
       "\n",
       "                                         Coordinates   latitude  longitude  \n",
       "0                                                NaN        NaN        NaN  \n",
       "1                                                NaN        NaN        NaN  \n",
       "2                                                NaN        NaN        NaN  \n",
       "3  Woburn, Scarborough—Guildwood, Scarborough, To...  43.759824 -79.225291  \n",
       "4                                                NaN        NaN        NaN  "
      ]
     },
     "execution_count": 304,
     "metadata": {},
     "output_type": "execute_result"
    }
   ],
   "source": [
    "# Load the Pandas libraries with alias 'pd' \n",
    "import pandas as pd \n",
    "# Read data from file 'filename.csv' \n",
    "# (in the same directory that your python process is based)\n",
    "# Control delimiters, rows, column names with read_csv (see later) \n",
    "data2 = pd.read_csv(\"geopy.csv\") \n",
    "# Preview the first 5 lines of the loaded data \n",
    "data2.head()"
   ]
  },
  {
   "cell_type": "code",
   "execution_count": 363,
   "metadata": {},
   "outputs": [
    {
     "name": "stdout",
     "output_type": "stream",
     "text": [
      "Coordinates downloaded!\n"
     ]
    }
   ],
   "source": [
    "!wget -q -O \"toronto_coordinates.csv\" http://cocl.us/Geospatial_data\n",
    "print('Coordinates downloaded!')\n",
    "data3 = pd.read_csv('toronto_coordinates.csv')\n"
   ]
  },
  {
   "cell_type": "code",
   "execution_count": 364,
   "metadata": {},
   "outputs": [],
   "source": [
    "data3.rename(columns={'Postal Code': 'PostalCode'}, inplace=True)\n",
    "#data3.head()"
   ]
  },
  {
   "cell_type": "code",
   "execution_count": 365,
   "metadata": {},
   "outputs": [
    {
     "data": {
      "text/html": [
       "<div>\n",
       "<style scoped>\n",
       "    .dataframe tbody tr th:only-of-type {\n",
       "        vertical-align: middle;\n",
       "    }\n",
       "\n",
       "    .dataframe tbody tr th {\n",
       "        vertical-align: top;\n",
       "    }\n",
       "\n",
       "    .dataframe thead th {\n",
       "        text-align: right;\n",
       "    }\n",
       "</style>\n",
       "<table border=\"1\" class=\"dataframe\">\n",
       "  <thead>\n",
       "    <tr style=\"text-align: right;\">\n",
       "      <th></th>\n",
       "      <th>PostalCode</th>\n",
       "      <th>Latitude</th>\n",
       "      <th>Longitude</th>\n",
       "      <th>Unnamed: 0</th>\n",
       "      <th>Borough</th>\n",
       "      <th>Neighbourhood</th>\n",
       "      <th>address</th>\n",
       "      <th>Coordinates</th>\n",
       "      <th>latitude</th>\n",
       "      <th>longitude</th>\n",
       "    </tr>\n",
       "  </thead>\n",
       "  <tbody>\n",
       "    <tr>\n",
       "      <th>0</th>\n",
       "      <td>M1B</td>\n",
       "      <td>43.806686</td>\n",
       "      <td>-79.194353</td>\n",
       "      <td>0</td>\n",
       "      <td>Scarborough</td>\n",
       "      <td>Malvern / Rouge</td>\n",
       "      <td>M1B,Scarborough,Malvern / Rouge</td>\n",
       "      <td>NaN</td>\n",
       "      <td>NaN</td>\n",
       "      <td>NaN</td>\n",
       "    </tr>\n",
       "    <tr>\n",
       "      <th>1</th>\n",
       "      <td>M1C</td>\n",
       "      <td>43.784535</td>\n",
       "      <td>-79.160497</td>\n",
       "      <td>1</td>\n",
       "      <td>Scarborough</td>\n",
       "      <td>Rouge Hill / Port Union / Highland Creek</td>\n",
       "      <td>M1C,Scarborough,Rouge Hill / Port Union / High...</td>\n",
       "      <td>NaN</td>\n",
       "      <td>NaN</td>\n",
       "      <td>NaN</td>\n",
       "    </tr>\n",
       "    <tr>\n",
       "      <th>2</th>\n",
       "      <td>M1E</td>\n",
       "      <td>43.763573</td>\n",
       "      <td>-79.188711</td>\n",
       "      <td>2</td>\n",
       "      <td>Scarborough</td>\n",
       "      <td>Guildwood / Morningside / West Hill</td>\n",
       "      <td>M1E,Scarborough,Guildwood / Morningside / West...</td>\n",
       "      <td>NaN</td>\n",
       "      <td>NaN</td>\n",
       "      <td>NaN</td>\n",
       "    </tr>\n",
       "    <tr>\n",
       "      <th>3</th>\n",
       "      <td>M1G</td>\n",
       "      <td>43.770992</td>\n",
       "      <td>-79.216917</td>\n",
       "      <td>3</td>\n",
       "      <td>Scarborough</td>\n",
       "      <td>Woburn</td>\n",
       "      <td>M1G,Scarborough,Woburn</td>\n",
       "      <td>Woburn, Scarborough—Guildwood, Scarborough, To...</td>\n",
       "      <td>43.759824</td>\n",
       "      <td>-79.225291</td>\n",
       "    </tr>\n",
       "    <tr>\n",
       "      <th>4</th>\n",
       "      <td>M1H</td>\n",
       "      <td>43.773136</td>\n",
       "      <td>-79.239476</td>\n",
       "      <td>4</td>\n",
       "      <td>Scarborough</td>\n",
       "      <td>Cedarbrae</td>\n",
       "      <td>M1H,Scarborough,Cedarbrae</td>\n",
       "      <td>NaN</td>\n",
       "      <td>NaN</td>\n",
       "      <td>NaN</td>\n",
       "    </tr>\n",
       "  </tbody>\n",
       "</table>\n",
       "</div>"
      ],
      "text/plain": [
       "  PostalCode   Latitude  Longitude  Unnamed: 0      Borough  \\\n",
       "0        M1B  43.806686 -79.194353           0  Scarborough   \n",
       "1        M1C  43.784535 -79.160497           1  Scarborough   \n",
       "2        M1E  43.763573 -79.188711           2  Scarborough   \n",
       "3        M1G  43.770992 -79.216917           3  Scarborough   \n",
       "4        M1H  43.773136 -79.239476           4  Scarborough   \n",
       "\n",
       "                              Neighbourhood  \\\n",
       "0                           Malvern / Rouge   \n",
       "1  Rouge Hill / Port Union / Highland Creek   \n",
       "2       Guildwood / Morningside / West Hill   \n",
       "3                                    Woburn   \n",
       "4                                 Cedarbrae   \n",
       "\n",
       "                                             address  \\\n",
       "0                    M1B,Scarborough,Malvern / Rouge   \n",
       "1  M1C,Scarborough,Rouge Hill / Port Union / High...   \n",
       "2  M1E,Scarborough,Guildwood / Morningside / West...   \n",
       "3                             M1G,Scarborough,Woburn   \n",
       "4                          M1H,Scarborough,Cedarbrae   \n",
       "\n",
       "                                         Coordinates   latitude  longitude  \n",
       "0                                                NaN        NaN        NaN  \n",
       "1                                                NaN        NaN        NaN  \n",
       "2                                                NaN        NaN        NaN  \n",
       "3  Woburn, Scarborough—Guildwood, Scarborough, To...  43.759824 -79.225291  \n",
       "4                                                NaN        NaN        NaN  "
      ]
     },
     "execution_count": 365,
     "metadata": {},
     "output_type": "execute_result"
    }
   ],
   "source": [
    "data1 = pd.merge(data3, data2, how='inner', on=None, left_on=None, right_on=None,\n",
    "         left_index=False, right_index=False, sort=True,\n",
    "         suffixes=('_x', '_y'), copy=True, indicator=False,\n",
    "         validate=None)\n",
    "\n",
    "data1.head()"
   ]
  },
  {
   "cell_type": "code",
   "execution_count": 366,
   "metadata": {},
   "outputs": [
    {
     "name": "stdout",
     "output_type": "stream",
     "text": [
      "<class 'pandas.core.frame.DataFrame'>\n",
      "Int64Index: 103 entries, 0 to 102\n",
      "Data columns (total 10 columns):\n",
      "PostalCode       103 non-null object\n",
      "Latitude         103 non-null float64\n",
      "Longitude        103 non-null float64\n",
      "Unnamed: 0       103 non-null int64\n",
      "Borough          103 non-null object\n",
      "Neighbourhood    103 non-null object\n",
      "address          103 non-null object\n",
      "Coordinates      2 non-null object\n",
      "latitude         2 non-null float64\n",
      "longitude        2 non-null float64\n",
      "dtypes: float64(4), int64(1), object(5)\n",
      "memory usage: 8.9+ KB\n"
     ]
    }
   ],
   "source": [
    "data1.info()"
   ]
  },
  {
   "cell_type": "code",
   "execution_count": 367,
   "metadata": {},
   "outputs": [
    {
     "data": {
      "text/plain": [
       "['PostalCode',\n",
       " 'Latitude',\n",
       " 'Longitude',\n",
       " 'Unnamed: 0',\n",
       " 'Borough',\n",
       " 'Neighbourhood',\n",
       " 'address',\n",
       " 'Coordinates',\n",
       " 'latitude',\n",
       " 'longitude']"
      ]
     },
     "execution_count": 367,
     "metadata": {},
     "output_type": "execute_result"
    }
   ],
   "source": [
    "cols = data1.columns.tolist()\n",
    "cols"
   ]
  },
  {
   "cell_type": "code",
   "execution_count": 368,
   "metadata": {},
   "outputs": [
    {
     "data": {
      "text/plain": [
       "['PostalCode', 'Borough', 'Neighbourhood', 'Latitude', 'Longitude']"
      ]
     },
     "execution_count": 368,
     "metadata": {},
     "output_type": "execute_result"
    }
   ],
   "source": [
    "new_column_order = ['PostalCode',\n",
    " 'Borough',\n",
    " 'Neighbourhood',\n",
    " 'Latitude',\n",
    " 'Longitude']\n",
    "new_column_order"
   ]
  },
  {
   "cell_type": "code",
   "execution_count": 369,
   "metadata": {},
   "outputs": [],
   "source": [
    "data1 = data1[new_column_order]\n",
    "#data1.head()"
   ]
  },
  {
   "cell_type": "code",
   "execution_count": 371,
   "metadata": {},
   "outputs": [],
   "source": [
    "sorted_df = data1.sort_values([ 'Neighbourhood', 'Latitude'], ascending=[True, True])\n",
    "#sorted_df.head()\n",
    "# no idea how to get it exacly like the exqample :("
   ]
  },
  {
   "cell_type": "code",
   "execution_count": 372,
   "metadata": {},
   "outputs": [],
   "source": [
    "sorted_df.reset_index(inplace=True)\n",
    "#sorted_df.head()"
   ]
  },
  {
   "cell_type": "code",
   "execution_count": 373,
   "metadata": {},
   "outputs": [],
   "source": [
    "sorted_cols =sorted_df.columns.tolist()\n",
    "#sorted_cols"
   ]
  },
  {
   "cell_type": "code",
   "execution_count": 374,
   "metadata": {},
   "outputs": [
    {
     "data": {
      "text/plain": [
       "['PostalCode', 'Borough', 'Neighbourhood', 'Latitude', 'Longitude']"
      ]
     },
     "execution_count": 374,
     "metadata": {},
     "output_type": "execute_result"
    }
   ],
   "source": [
    "new_column_order2 = ['PostalCode',\n",
    " 'Borough',\n",
    " 'Neighbourhood',\n",
    " 'Latitude',\n",
    " 'Longitude']\n",
    "new_column_order2"
   ]
  },
  {
   "cell_type": "code",
   "execution_count": 375,
   "metadata": {},
   "outputs": [
    {
     "data": {
      "text/html": [
       "<div>\n",
       "<style scoped>\n",
       "    .dataframe tbody tr th:only-of-type {\n",
       "        vertical-align: middle;\n",
       "    }\n",
       "\n",
       "    .dataframe tbody tr th {\n",
       "        vertical-align: top;\n",
       "    }\n",
       "\n",
       "    .dataframe thead th {\n",
       "        text-align: right;\n",
       "    }\n",
       "</style>\n",
       "<table border=\"1\" class=\"dataframe\">\n",
       "  <thead>\n",
       "    <tr style=\"text-align: right;\">\n",
       "      <th></th>\n",
       "      <th>PostalCode</th>\n",
       "      <th>Borough</th>\n",
       "      <th>Neighbourhood</th>\n",
       "      <th>Latitude</th>\n",
       "      <th>Longitude</th>\n",
       "    </tr>\n",
       "  </thead>\n",
       "  <tbody>\n",
       "    <tr>\n",
       "      <th>0</th>\n",
       "      <td>M1S</td>\n",
       "      <td>Scarborough</td>\n",
       "      <td>Agincourt</td>\n",
       "      <td>43.794200</td>\n",
       "      <td>-79.262029</td>\n",
       "    </tr>\n",
       "    <tr>\n",
       "      <th>1</th>\n",
       "      <td>M8W</td>\n",
       "      <td>Etobicoke</td>\n",
       "      <td>Alderwood / Long Branch</td>\n",
       "      <td>43.602414</td>\n",
       "      <td>-79.543484</td>\n",
       "    </tr>\n",
       "    <tr>\n",
       "      <th>2</th>\n",
       "      <td>M3H</td>\n",
       "      <td>NorthYork</td>\n",
       "      <td>Bathurst Manor / Wilson Heights / Downsview North</td>\n",
       "      <td>43.754328</td>\n",
       "      <td>-79.442259</td>\n",
       "    </tr>\n",
       "    <tr>\n",
       "      <th>3</th>\n",
       "      <td>M2K</td>\n",
       "      <td>NorthYork</td>\n",
       "      <td>Bayview Village</td>\n",
       "      <td>43.786947</td>\n",
       "      <td>-79.385975</td>\n",
       "    </tr>\n",
       "    <tr>\n",
       "      <th>4</th>\n",
       "      <td>M5M</td>\n",
       "      <td>NorthYork</td>\n",
       "      <td>Bedford Park / Lawrence Manor East</td>\n",
       "      <td>43.733283</td>\n",
       "      <td>-79.419750</td>\n",
       "    </tr>\n",
       "  </tbody>\n",
       "</table>\n",
       "</div>"
      ],
      "text/plain": [
       "  PostalCode      Borough                                      Neighbourhood  \\\n",
       "0        M1S  Scarborough                                          Agincourt   \n",
       "1        M8W    Etobicoke                            Alderwood / Long Branch   \n",
       "2        M3H    NorthYork  Bathurst Manor / Wilson Heights / Downsview North   \n",
       "3        M2K    NorthYork                                    Bayview Village   \n",
       "4        M5M    NorthYork                 Bedford Park / Lawrence Manor East   \n",
       "\n",
       "    Latitude  Longitude  \n",
       "0  43.794200 -79.262029  \n",
       "1  43.602414 -79.543484  \n",
       "2  43.754328 -79.442259  \n",
       "3  43.786947 -79.385975  \n",
       "4  43.733283 -79.419750  "
      ]
     },
     "execution_count": 375,
     "metadata": {},
     "output_type": "execute_result"
    }
   ],
   "source": [
    "sorted_dataframe = sorted_df[new_column_order]\n",
    "sorted_dataframe.head()"
   ]
  },
  {
   "cell_type": "code",
   "execution_count": null,
   "metadata": {},
   "outputs": [],
   "source": []
  }
 ],
 "metadata": {
  "kernelspec": {
   "display_name": "Python 3.6",
   "language": "python",
   "name": "python3"
  }
 },
 "nbformat": 4,
 "nbformat_minor": 1
}
